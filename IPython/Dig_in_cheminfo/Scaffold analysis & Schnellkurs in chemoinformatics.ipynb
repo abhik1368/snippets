{
 "metadata": {
  "name": ""
 },
 "nbformat": 3,
 "nbformat_minor": 0,
 "worksheets": [
  {
   "cells": [
    {
     "cell_type": "markdown",
     "metadata": {},
     "source": [
      "# Scaffold analysis in Python with RDKit and pandas\n",
      "## & Schnellkurs programming and chemoinformatics\n",
      "### Dr. Samo Turk\n",
      "#### BioMed X Innovation Center, Heidelberg  \n",
      "<img src=\"files/biomedx.png\">  \n",
      "  "
     ]
    },
    {
     "cell_type": "markdown",
     "metadata": {},
     "source": [
      "  "
     ]
    },
    {
     "cell_type": "markdown",
     "metadata": {},
     "source": [
      "<p style=\"font-size:20px;\"><strong>Python</strong></p>\n",
      "<p style=\"font-size:20px;\">[Python](http://www.python.org/) very popular programming language especially in science.</p>\n",
      "\n",
      "<p style=\"font-size:20px;\"><strong>pandas</strong></p>\n",
      "<p style=\"font-size:20px;\">[Pandas](http://pandas.pydata.org/) is an open source, BSD-licensed library providing high-performance, easy-to-use data structures and data analysis tools for the Python programming language.  \n",
      "No need for R!</p>\n",
      "\n",
      "<p style=\"font-size:20px;\"><strong>RDKit</strong></p>\n",
      "<p style=\"font-size:20px;\">[RDKit](http://www.rdkit.org/) is an open source chemistry toolkit.</p>\n",
      "\n",
      "<p style=\"font-size:20px;\"><strong>IPython</strong></p>\n",
      "<p style=\"font-size:20px;\">[IPython](http://ipython.org/) interactive python shell. Has web-based interactive computational environment IPython Notebook.</p>\n",
      "\n",
      "### These are not slides but an interactive tutorial! https://github.com/Team-SKI/snippets\n",
      "### Interactive means you can stop me and ask!\n",
      "<br>\n",
      "<br>\n",
      "<br>\n",
      "<br>\n",
      "<br>\n",
      "<br>"
     ]
    },
    {
     "cell_type": "markdown",
     "metadata": {},
     "source": [
      "# Intro in programming"
     ]
    },
    {
     "cell_type": "markdown",
     "metadata": {},
     "source": [
      "http://www.codecademy.com  \n",
      "http://www.diveintopython.net/  \n",
      "[Mark Lutz @ O'Reilly](http://www.oreilly.com/pub/au/446)  "
     ]
    },
    {
     "cell_type": "markdown",
     "metadata": {},
     "source": [
      "### Variables, lists and dictionaries"
     ]
    },
    {
     "cell_type": "code",
     "collapsed": false,
     "input": [
      "num = 1"
     ],
     "language": "python",
     "metadata": {},
     "outputs": []
    },
    {
     "cell_type": "code",
     "collapsed": false,
     "input": [
      "num"
     ],
     "language": "python",
     "metadata": {},
     "outputs": []
    },
    {
     "cell_type": "code",
     "collapsed": false,
     "input": [
      "num = 320"
     ],
     "language": "python",
     "metadata": {},
     "outputs": []
    },
    {
     "cell_type": "code",
     "collapsed": false,
     "input": [
      "num"
     ],
     "language": "python",
     "metadata": {},
     "outputs": []
    },
    {
     "cell_type": "code",
     "collapsed": false,
     "input": [
      "string = \"This is a string\""
     ],
     "language": "python",
     "metadata": {},
     "outputs": []
    },
    {
     "cell_type": "code",
     "collapsed": false,
     "input": [
      "string"
     ],
     "language": "python",
     "metadata": {},
     "outputs": []
    },
    {
     "cell_type": "markdown",
     "metadata": {},
     "source": [
      "#### Lists"
     ]
    },
    {
     "cell_type": "code",
     "collapsed": false,
     "input": [
      "stuff = [1, \"chair\", \"potato\", \"Doppelkupplungsgetriebe\"]"
     ],
     "language": "python",
     "metadata": {},
     "outputs": []
    },
    {
     "cell_type": "code",
     "collapsed": false,
     "input": [
      "stuff"
     ],
     "language": "python",
     "metadata": {},
     "outputs": []
    },
    {
     "cell_type": "markdown",
     "metadata": {},
     "source": [
      "Call items by index"
     ]
    },
    {
     "cell_type": "code",
     "collapsed": false,
     "input": [
      "stuff[3]"
     ],
     "language": "python",
     "metadata": {},
     "outputs": []
    },
    {
     "cell_type": "markdown",
     "metadata": {},
     "source": [
      "##### Dictionaries"
     ]
    },
    {
     "cell_type": "code",
     "collapsed": false,
     "input": [
      "dictionary = {'book':'das Buch', 'chair':'der Stuhl'}"
     ],
     "language": "python",
     "metadata": {},
     "outputs": []
    },
    {
     "cell_type": "markdown",
     "metadata": {},
     "source": [
      "Get values by keys"
     ]
    },
    {
     "cell_type": "code",
     "collapsed": false,
     "input": [
      "dictionary['book']"
     ],
     "language": "python",
     "metadata": {},
     "outputs": []
    },
    {
     "cell_type": "markdown",
     "metadata": {},
     "source": [
      "### Functions"
     ]
    },
    {
     "cell_type": "code",
     "collapsed": false,
     "input": [
      "num1 = 2\n",
      "num2 = 30"
     ],
     "language": "python",
     "metadata": {},
     "outputs": []
    },
    {
     "cell_type": "code",
     "collapsed": false,
     "input": [
      "(num1 + num2)/2"
     ],
     "language": "python",
     "metadata": {},
     "outputs": []
    },
    {
     "cell_type": "markdown",
     "metadata": {},
     "source": [
      "Define our function with: **def nameOfFunction()**"
     ]
    },
    {
     "cell_type": "code",
     "collapsed": false,
     "input": [
      "def average(num1, num2):\n",
      "    return (num1 + num2)/2."
     ],
     "language": "python",
     "metadata": {},
     "outputs": []
    },
    {
     "cell_type": "markdown",
     "metadata": {},
     "source": [
      "Call function by: **nameOfFunction(args)**"
     ]
    },
    {
     "cell_type": "code",
     "collapsed": false,
     "input": [
      "average(1, 2), average(10, 12), average(5, 20)"
     ],
     "language": "python",
     "metadata": {},
     "outputs": []
    },
    {
     "cell_type": "markdown",
     "metadata": {},
     "source": [
      "### Classes & objects \n",
      "Object-oriented programming is a programming paradigm that represents concepts as \"objects\" that have data fields and associated procedures known as methods.  \n",
      "In the object-oriented programming paradigm, object, refers to a particular instance of a class where the object can be a combination of variables, functions, and data structures."
     ]
    },
    {
     "cell_type": "code",
     "collapsed": false,
     "input": [
      "class Circle:\n",
      "    def __init__(self, r=1):\n",
      "        self.r = r\n",
      "    pi = 3.14159265359\n",
      "    def circumference(self):\n",
      "        return 2*self.pi*self.r\n",
      "    def surface(self):\n",
      "        return self.pi*self.r*self.r"
     ],
     "language": "python",
     "metadata": {},
     "outputs": []
    },
    {
     "cell_type": "markdown",
     "metadata": {},
     "source": [
      "![Pi](files/pi.gif)"
     ]
    },
    {
     "cell_type": "markdown",
     "metadata": {},
     "source": [
      "Access constants:"
     ]
    },
    {
     "cell_type": "code",
     "collapsed": false,
     "input": [
      "Circle.pi"
     ],
     "language": "python",
     "metadata": {},
     "outputs": []
    },
    {
     "cell_type": "markdown",
     "metadata": {},
     "source": [
      "Create your instance of object"
     ]
    },
    {
     "cell_type": "code",
     "collapsed": false,
     "input": [
      "mycircle = Circle(r=4)"
     ],
     "language": "python",
     "metadata": {},
     "outputs": []
    },
    {
     "cell_type": "code",
     "collapsed": false,
     "input": [
      "mycircle.circumference()"
     ],
     "language": "python",
     "metadata": {},
     "outputs": []
    },
    {
     "cell_type": "code",
     "collapsed": false,
     "input": [
      "mycircle.surface()"
     ],
     "language": "python",
     "metadata": {},
     "outputs": []
    },
    {
     "cell_type": "markdown",
     "metadata": {},
     "source": [
      "And another"
     ]
    },
    {
     "cell_type": "code",
     "collapsed": false,
     "input": [
      "anothercircle = Circle(r=2)"
     ],
     "language": "python",
     "metadata": {},
     "outputs": []
    },
    {
     "cell_type": "code",
     "collapsed": false,
     "input": [
      "anothercircle.circumference(), anothercircle.surface()"
     ],
     "language": "python",
     "metadata": {},
     "outputs": []
    },
    {
     "cell_type": "markdown",
     "metadata": {},
     "source": [
      "<br>\n",
      "<br>\n",
      "<br>\n",
      "<br>\n",
      "<br>\n",
      "# Intro in chemoinformatics"
     ]
    },
    {
     "cell_type": "code",
     "collapsed": false,
     "input": [
      "import pandas as pd\n",
      "import rdkit.Chem as Chem\n",
      "from rdkit.Chem import AllChem\n",
      "from rdkit.Chem import PandasTools\n",
      "from rdkit.Chem import Draw\n",
      "from rdkit.Chem import Descriptors\n",
      "from rdkit.Chem.Draw import IPythonConsole # Enables RDKit IPython integration"
     ],
     "language": "python",
     "metadata": {},
     "outputs": []
    },
    {
     "cell_type": "markdown",
     "metadata": {},
     "source": [
      "### SMILES\n",
      "simplified molecular-input line-entry system  \n",
      "Write molecules in single line"
     ]
    },
    {
     "cell_type": "code",
     "collapsed": false,
     "input": [
      "Chem.MolFromSmiles('C')"
     ],
     "language": "python",
     "metadata": {},
     "outputs": []
    },
    {
     "cell_type": "code",
     "collapsed": false,
     "input": [
      "Chem.MolFromSmiles('CC')"
     ],
     "language": "python",
     "metadata": {},
     "outputs": []
    },
    {
     "cell_type": "code",
     "collapsed": false,
     "input": [
      "Chem.MolFromSmiles('c1ccccc1')"
     ],
     "language": "python",
     "metadata": {},
     "outputs": []
    },
    {
     "cell_type": "code",
     "collapsed": false,
     "input": [
      "Chem.MolFromSmiles('c1cc(CCO)ccc1')"
     ],
     "language": "python",
     "metadata": {},
     "outputs": []
    },
    {
     "cell_type": "markdown",
     "metadata": {},
     "source": [
      "### SDF\n",
      "3D or 2D info  \n",
      "atom types, x,y,z coordinates for all atoms and connections among them"
     ]
    },
    {
     "cell_type": "code",
     "collapsed": false,
     "input": [
      "mol = Chem.MolFromSmiles('c1cc(CCO)ccc1')\n",
      "mol.SetProp(\"_Name\",\"2-phenylethanol\")\n",
      "mol = Chem.AddHs(mol)\n",
      "AllChem.EmbedMolecule(mol)\n",
      "AllChem.UFFOptimizeMolecule(mol)\n",
      "print(Chem.MolToMolBlock(mol))"
     ],
     "language": "python",
     "metadata": {},
     "outputs": []
    },
    {
     "cell_type": "code",
     "collapsed": false,
     "input": [
      "mol\n"
     ],
     "language": "python",
     "metadata": {},
     "outputs": []
    },
    {
     "cell_type": "markdown",
     "metadata": {},
     "source": [
      "<br>\n",
      "<br>\n",
      "<br>\n",
      "<br>\n",
      "<br>\n",
      "<br>\n",
      "<br>\n",
      "<br>\n",
      "<br>\n",
      "<br>\n",
      "<br>\n",
      "\n",
      "## Lets dig in\n",
      "I had this tutorial at MMWS 2014 in Erlangen.  \n",
      "Basic example how chemoinformatic analysis of large set of molecules looks like"
     ]
    },
    {
     "cell_type": "code",
     "collapsed": false,
     "input": [
      "import pandas as pd\n",
      "import rdkit.Chem as Chem\n",
      "from rdkit.Chem import PandasTools\n",
      "from rdkit.Chem import Draw\n",
      "from rdkit.Chem import Descriptors\n",
      "from rdkit.Chem.Draw import IPythonConsole # Enables RDKit IPython integration"
     ],
     "language": "python",
     "metadata": {},
     "outputs": []
    },
    {
     "cell_type": "markdown",
     "metadata": {},
     "source": [
      "### IPython and RDKit\n",
      "RDKit provides IPython integration"
     ]
    },
    {
     "cell_type": "code",
     "collapsed": false,
     "input": [
      "mol = Chem.MolFromSmiles('O=C(O[C@@H]1[C@H]3C(=C/[C@H](C)C1)\\C=C/[C@@H]([C@@H]3CC[C@H]2OC(=O)C[C@H](O)C2)C)[C@@H](C)CC')"
     ],
     "language": "python",
     "metadata": {},
     "outputs": []
    },
    {
     "cell_type": "code",
     "collapsed": false,
     "input": [
      "mol"
     ],
     "language": "python",
     "metadata": {},
     "outputs": []
    },
    {
     "cell_type": "code",
     "collapsed": false,
     "input": [
      "Descriptors.NumHDonors(mol)"
     ],
     "language": "python",
     "metadata": {},
     "outputs": []
    },
    {
     "cell_type": "code",
     "collapsed": false,
     "input": [
      "Descriptors.MolLogP(mol)"
     ],
     "language": "python",
     "metadata": {},
     "outputs": []
    },
    {
     "cell_type": "markdown",
     "metadata": {},
     "source": [
      "### RDKit and pandas\n",
      "#### PandasTools.py"
     ]
    },
    {
     "cell_type": "markdown",
     "metadata": {},
     "source": [
      "Load 'approved drugs' downloaded from www.drugbank.ca.   \n",
      "**`% time`** *is a ipython magic function that tells you how much time did certain operation take to finish. It will be used to give you a feeling about speed of certain functions*"
     ]
    },
    {
     "cell_type": "code",
     "collapsed": false,
     "input": [
      "% time cpds = PandasTools.LoadSDF('approved.sdf', includeFingerprints=False)"
     ],
     "language": "python",
     "metadata": {},
     "outputs": []
    },
    {
     "cell_type": "markdown",
     "metadata": {},
     "source": [
      "cpds is now pandas DataFrame (column with rows and columns)"
     ]
    },
    {
     "cell_type": "code",
     "collapsed": false,
     "input": [
      "cpds.columns"
     ],
     "language": "python",
     "metadata": {},
     "outputs": []
    },
    {
     "cell_type": "code",
     "collapsed": false,
     "input": [
      "len(cpds)"
     ],
     "language": "python",
     "metadata": {},
     "outputs": []
    },
    {
     "cell_type": "markdown",
     "metadata": {},
     "source": [
      "Assign the values of molnames and smiles (makes it easier to use this notebook on other sets with different col names)"
     ]
    },
    {
     "cell_type": "code",
     "collapsed": false,
     "input": [
      "molnames = 'DRUGBANK_ID'\n",
      "smiles = 'SMILES'"
     ],
     "language": "python",
     "metadata": {},
     "outputs": []
    },
    {
     "cell_type": "markdown",
     "metadata": {},
     "source": [
      "Keep only columns 'DRUGBANK_ID', 'SMILES' and 'ROMol'"
     ]
    },
    {
     "cell_type": "code",
     "collapsed": false,
     "input": [
      "cpds = cpds[[molnames, smiles, 'ROMol']]"
     ],
     "language": "python",
     "metadata": {},
     "outputs": []
    },
    {
     "cell_type": "code",
     "collapsed": false,
     "input": [
      "cpds.columns"
     ],
     "language": "python",
     "metadata": {},
     "outputs": []
    },
    {
     "cell_type": "code",
     "collapsed": false,
     "input": [
      "cpds.head(2)"
     ],
     "language": "python",
     "metadata": {},
     "outputs": []
    },
    {
     "cell_type": "markdown",
     "metadata": {},
     "source": [
      "Look at two columns and only first 2 lines:"
     ]
    },
    {
     "cell_type": "code",
     "collapsed": false,
     "input": [
      "cpds[[molnames, 'ROMol']].head(2)"
     ],
     "language": "python",
     "metadata": {},
     "outputs": []
    },
    {
     "cell_type": "markdown",
     "metadata": {},
     "source": [
      "Remove lines with NaN (empty) values and duplicates"
     ]
    },
    {
     "cell_type": "code",
     "collapsed": false,
     "input": [
      "cpds = cpds.dropna()\n",
      "cpds = cpds.drop_duplicates(molnames)\n",
      "cpds = cpds.drop_duplicates(smiles)\n",
      "len(cpds)"
     ],
     "language": "python",
     "metadata": {},
     "outputs": []
    },
    {
     "cell_type": "markdown",
     "metadata": {},
     "source": [
      "### Descriptors\n",
      "Add some descriptors"
     ]
    },
    {
     "cell_type": "code",
     "collapsed": false,
     "input": [
      "from rdkit.Chem import Descriptors\n",
      "cpds['logp'] = cpds['ROMol'].map(Descriptors.MolLogP)\n",
      "cpds['mw'] = cpds['ROMol'].map(Descriptors.MolWt)"
     ],
     "language": "python",
     "metadata": {},
     "outputs": []
    },
    {
     "cell_type": "markdown",
     "metadata": {},
     "source": [
      "Remove compounds with logp >= 5 and MW >= 500"
     ]
    },
    {
     "cell_type": "code",
     "collapsed": false,
     "input": [
      "cpds = cpds[cpds['logp'] <= 5]\n",
      "cpds = cpds[cpds['mw'] <= 500]\n",
      "len(cpds)"
     ],
     "language": "python",
     "metadata": {},
     "outputs": []
    },
    {
     "cell_type": "code",
     "collapsed": false,
     "input": [
      "cpds[[molnames, 'logp', 'mw', smiles]].head()"
     ],
     "language": "python",
     "metadata": {},
     "outputs": []
    },
    {
     "cell_type": "markdown",
     "metadata": {},
     "source": [
      "### Matplotlib and pylab\n",
      "IPython has matplotlib integration"
     ]
    },
    {
     "cell_type": "code",
     "collapsed": false,
     "input": [
      "%matplotlib inline"
     ],
     "language": "python",
     "metadata": {},
     "outputs": []
    },
    {
     "cell_type": "code",
     "collapsed": false,
     "input": [
      "import pylab\n",
      "import numpy as np\n",
      "import matplotlib as plt"
     ],
     "language": "python",
     "metadata": {},
     "outputs": []
    },
    {
     "cell_type": "markdown",
     "metadata": {},
     "source": [
      "##### Distribution on molecular weights\n",
      "Bin the data and plot it"
     ]
    },
    {
     "cell_type": "code",
     "collapsed": false,
     "input": [
      "bins = np.linspace(cpds['mw'].min(), cpds['mw'].max(), 20)\n",
      "pylab.hist(cpds['mw'], bins)\n",
      "pylab.show"
     ],
     "language": "python",
     "metadata": {},
     "outputs": []
    },
    {
     "cell_type": "markdown",
     "metadata": {},
     "source": [
      "<br>\n",
      "<br>\n",
      "<br>\n",
      "<br>\n",
      "<br>\n",
      "\n",
      "## BioMed X contributed to PandasTools.py (RDKit)\n",
      "You get a lot from OS community and it's nice to contribute back.  \n",
      " \n",
      " -  Easier code maintainance\n",
      " -  Peer review\n",
      " -  Street cred\n"
     ]
    },
    {
     "cell_type": "markdown",
     "metadata": {},
     "source": [
      "### Alternative visualisation of a table\n",
      "Default takes a lot of space"
     ]
    },
    {
     "cell_type": "code",
     "collapsed": false,
     "input": [
      "cpds.head(1)"
     ],
     "language": "python",
     "metadata": {},
     "outputs": []
    },
    {
     "cell_type": "markdown",
     "metadata": {},
     "source": [
      "### FrameToGridImage(pandasFrame, legendsCol=, molsPerRow=)\n",
      "With this function you can visualize a dataframe (or part of it) as a single image"
     ]
    },
    {
     "cell_type": "code",
     "collapsed": false,
     "input": [
      "PandasTools.FrameToGridImage(cpds.head(8), legendsCol=molnames, molsPerRow=4)"
     ],
     "language": "python",
     "metadata": {},
     "outputs": []
    },
    {
     "cell_type": "markdown",
     "metadata": {},
     "source": [
      "You can define different colums as legends"
     ]
    },
    {
     "cell_type": "code",
     "collapsed": false,
     "input": [
      "PandasTools.FrameToGridImage(cpds.tail(6), legendsCol='mw', molsPerRow=3)"
     ],
     "language": "python",
     "metadata": {},
     "outputs": []
    },
    {
     "cell_type": "markdown",
     "metadata": {},
     "source": [
      "<br>\n",
      "<br>\n",
      "<br>\n",
      "<br>\n",
      "<br>\n",
      "<br>\n",
      "## Murcko scaffold decomposition \n",
      "Bemis, G. W.; Murcko, M. A. \u201cThe Properties of Known Drugs. 1. Molecular Frameworks.\u201d J. Med. Chem. 39:2887-93 (1996).  \n",
      "\n",
      "Decomposition of molecules to scaffolds or generic frameworks\n",
      "\n",
      "**Functionality present in RDKit. Added it to PandasTools**\n",
      "<br>\n",
      "<br>\n",
      "<br>\n",
      "<br>\n",
      "<br>\n",
      "<br>"
     ]
    },
    {
     "cell_type": "code",
     "collapsed": false,
     "input": [
      "from rdkit.Chem.Scaffolds import MurckoScaffold"
     ],
     "language": "python",
     "metadata": {},
     "outputs": []
    },
    {
     "cell_type": "markdown",
     "metadata": {},
     "source": [
      "How it works with RDKit:"
     ]
    },
    {
     "cell_type": "code",
     "collapsed": false,
     "input": [
      "scaffold = MurckoScaffold.GetScaffoldForMol(mol)\n",
      "generic = MurckoScaffold.MakeScaffoldGeneric(MurckoScaffold.GetScaffoldForMol(mol))"
     ],
     "language": "python",
     "metadata": {},
     "outputs": []
    },
    {
     "cell_type": "code",
     "collapsed": false,
     "input": [
      "mol"
     ],
     "language": "python",
     "metadata": {},
     "outputs": []
    },
    {
     "cell_type": "code",
     "collapsed": false,
     "input": [
      "scaffold"
     ],
     "language": "python",
     "metadata": {},
     "outputs": []
    },
    {
     "cell_type": "code",
     "collapsed": false,
     "input": [
      "generic"
     ],
     "language": "python",
     "metadata": {},
     "outputs": []
    },
    {
     "cell_type": "markdown",
     "metadata": {},
     "source": [
      "### AddMurckoToFrame(pandasFrame, MurcoCol=, Generic=False)  \n",
      "Returns SMILES of scaffolds (or generic frameworks)"
     ]
    },
    {
     "cell_type": "code",
     "collapsed": false,
     "input": [
      "% time PandasTools.AddMurckoToFrame(cpds)"
     ],
     "language": "python",
     "metadata": {},
     "outputs": []
    },
    {
     "cell_type": "code",
     "collapsed": false,
     "input": [
      "% time PandasTools.AddMurckoToFrame(cpds, MurckoCol='Murcko_GENERIC', Generic=True)"
     ],
     "language": "python",
     "metadata": {},
     "outputs": []
    },
    {
     "cell_type": "code",
     "collapsed": false,
     "input": [
      "cpds.head(1)"
     ],
     "language": "python",
     "metadata": {},
     "outputs": []
    },
    {
     "cell_type": "markdown",
     "metadata": {},
     "source": [
      "Now we can use pandas groupby() functionality and group by scaffolds and create a **new frame** with scaffolds sorted by number of members"
     ]
    },
    {
     "cell_type": "code",
     "collapsed": false,
     "input": [
      "sortedScaffolds = cpds.groupby(['Murcko_SMILES']).count().sort(smiles, ascending=False)"
     ],
     "language": "python",
     "metadata": {},
     "outputs": []
    },
    {
     "cell_type": "code",
     "collapsed": false,
     "input": [
      "sortedScaffolds = sortedScaffolds[[smiles]] # Keep only smiles column\n",
      "sortedScaffolds = sortedScaffolds.rename(columns={smiles:'count'}) # rename smiles column to count\n",
      "sortedScaffolds['Murcko_SMILES'] = sortedScaffolds.index # actual SMILES are only in index column, move it\n",
      "sortedScaffolds.index = range(len(sortedScaffolds))\n",
      "sortedScaffolds.head()"
     ],
     "language": "python",
     "metadata": {},
     "outputs": []
    },
    {
     "cell_type": "markdown",
     "metadata": {},
     "source": [
      "Add RDKit's ROMol column to scaffolds dataframe so we can visualize it"
     ]
    },
    {
     "cell_type": "code",
     "collapsed": false,
     "input": [
      "PandasTools.AddMoleculeColumnToFrame(sortedScaffolds, smilesCol='Murcko_SMILES')"
     ],
     "language": "python",
     "metadata": {},
     "outputs": []
    },
    {
     "cell_type": "code",
     "collapsed": false,
     "input": [
      "sortedScaffolds.head(1)"
     ],
     "language": "python",
     "metadata": {},
     "outputs": []
    },
    {
     "cell_type": "code",
     "collapsed": false,
     "input": [
      "PandasTools.FrameToGridImage(sortedScaffolds.dropna().head(8), molsPerRow=4) #dropna drops compounds without scaffold"
     ],
     "language": "python",
     "metadata": {},
     "outputs": []
    },
    {
     "cell_type": "markdown",
     "metadata": {},
     "source": [
      "We can also retrieve all compounds with certain scaffold from original table  \n",
      "Benzodiazepine scaffold is #4, SMILES: *O=C1CN=C(c2ccccc2)c2ccccc2N1*"
     ]
    },
    {
     "cell_type": "code",
     "collapsed": false,
     "input": [
      "cpds[cpds['Murcko_SMILES'] == 'O=C1CN=C(c2ccccc2)c2ccccc2N1'].head(1)"
     ],
     "language": "python",
     "metadata": {},
     "outputs": []
    },
    {
     "cell_type": "markdown",
     "metadata": {},
     "source": [
      "### Aligning compounds to scaffolds\n",
      "### AlignToScaffold(dataframe, molCol=, scaffoldCol=)"
     ]
    },
    {
     "cell_type": "markdown",
     "metadata": {},
     "source": [
      "Lets get all benzodiazepines in seperate frame"
     ]
    },
    {
     "cell_type": "code",
     "collapsed": false,
     "input": [
      "somemols = cpds.groupby('Murcko_SMILES').get_group('O=C1CN=C(c2ccccc2)c2ccccc2N1')"
     ],
     "language": "python",
     "metadata": {},
     "outputs": []
    },
    {
     "cell_type": "markdown",
     "metadata": {},
     "source": [
      "Note how molecules are not alignied"
     ]
    },
    {
     "cell_type": "code",
     "collapsed": false,
     "input": [
      "PandasTools.FrameToGridImage(somemols.head(4), molsPerRow=4)"
     ],
     "language": "python",
     "metadata": {},
     "outputs": []
    },
    {
     "cell_type": "markdown",
     "metadata": {},
     "source": [
      "Align them to scaffold"
     ]
    },
    {
     "cell_type": "code",
     "collapsed": false,
     "input": [
      "PandasTools.AlignToScaffold(somemols, molCol='ROMol', scaffoldCol='Murcko_SMILES')"
     ],
     "language": "python",
     "metadata": {},
     "outputs": []
    },
    {
     "cell_type": "code",
     "collapsed": false,
     "input": [
      "PandasTools.FrameToGridImage(somemols.head(4), molsPerRow=4)"
     ],
     "language": "python",
     "metadata": {},
     "outputs": []
    },
    {
     "cell_type": "markdown",
     "metadata": {},
     "source": [
      "  \n",
      "  \n",
      "  "
     ]
    },
    {
     "cell_type": "markdown",
     "metadata": {},
     "source": [
      "<br>\n",
      "<br>\n",
      "<br>\n",
      "<br>\n",
      "<br>\n",
      "<br>\n",
      "\n",
      "### Check our GitHub https://github.com/Team-SKI/snippets\n",
      "### Check our web page http://www.bio.mx. We have open positions for master students!\n",
      "<img src=\"files/biomedx.png\">  \n",
      "<br>\n",
      "\n",
      "<img src=\"files/rdkit.png\">  \n",
      "<br>\n",
      "\n",
      "<img src=\"files/merck.jpeg\">  \n",
      "<br>\n",
      "\n",
      "# Thank you!\n",
      "\n",
      "<br>\n",
      "<br>\n",
      "<br>\n",
      "<br>\n",
      "<br>\n",
      "<br>"
     ]
    },
    {
     "cell_type": "markdown",
     "metadata": {},
     "source": [
      "Copyright (C) 2014 by Samo Turk, [BioMed X GmbH](http://bio.mx/)\n",
      "\n",
      "This work is licensed under the Creative Commons Attribution-ShareAlike 3.0 License. To view a copy of this license, visit http://creativecommons.org/licenses/by-sa/3.0/ or send a letter to Creative Commons, 543 Howard Street, 5th Floor, San Francisco, California, 94105, USA."
     ]
    }
   ],
   "metadata": {}
  }
 ]
}