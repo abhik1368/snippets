{
 "metadata": {
  "name": ""
 },
 "nbformat": 3,
 "nbformat_minor": 0,
 "worksheets": [
  {
   "cells": [
    {
     "cell_type": "markdown",
     "metadata": {},
     "source": [
      "# BioMed X web page\n",
      "[http://bio.mx/](http://bio.mx/)\n",
      "### Team pages\n",
      "Thank you all for helping. Great thanks to **Marco Tidona** for coding!\n",
      "\n",
      "### Notes and missing stuff\n",
      "- Use Twitter!\n",
      "- We need team group pictures\n",
      "- Each group should be able to update their own page\n",
      "- Team IMT\n",
      "\n",
      "##### More info on http://192.168.96.60/dokuwiki/doku.php?id=admin:web-page\n",
      "<br>  \n",
      "<br>\n",
      "<br>\n",
      "<br>\n",
      "<br>\n",
      "<br>\n",
      "<br>\n",
      "<br>\n",
      "<br>\n",
      "<br>\n",
      "  \n",
      "  "
     ]
    },
    {
     "cell_type": "markdown",
     "metadata": {},
     "source": [
      "# Markdown\n",
      "- Plain text formating syntax\n",
      "- You can format text without html knowledge\n",
      "- http://daringfireball.net/projects/markdown/\n",
      "- http://192.168.96.60/dokuwiki/doku.php?id=admin:web-page\n",
      "<br>  \n",
      "<br>\n",
      "<br>\n",
      "<br>\n",
      "<br>\n",
      "<br>\n",
      "<br>\n",
      "<br>"
     ]
    },
    {
     "cell_type": "markdown",
     "metadata": {},
     "source": [
      "# Headings\n",
      "\n",
      "# Header 1\n",
      "## Header 2\n",
      "### Header 3 (in our case names)\n",
      "#### Header 4 (persons position)\n",
      "##### Header 5 (previous work & contact)"
     ]
    },
    {
     "cell_type": "markdown",
     "metadata": {},
     "source": [
      "# Lists\n",
      "- list item 1\n",
      "- list item 2"
     ]
    },
    {
     "cell_type": "markdown",
     "metadata": {},
     "source": [
      "# Links\n",
      "[LINK](www.google.com)  \n",
      "E-mail: <turk@bio.mx> "
     ]
    },
    {
     "cell_type": "markdown",
     "metadata": {},
     "source": [
      "# Images\n",
      "![My Image](http://media.bio.mx/teams/ski/turk.jpg)"
     ]
    },
    {
     "cell_type": "markdown",
     "metadata": {},
     "source": [
      "# Normal text is easy. You just write\n",
      "**important** *italic*  \n",
      "\n",
      "Two spaces and enter introduce new lines.  \n",
      "**See new line.**  \n",
      "If you miss spaces and have just enter there will be no new line.\n",
      "**See no new line.**"
     ]
    },
    {
     "cell_type": "code",
     "collapsed": false,
     "input": [],
     "language": "python",
     "metadata": {},
     "outputs": []
    }
   ],
   "metadata": {}
  }
 ]
}