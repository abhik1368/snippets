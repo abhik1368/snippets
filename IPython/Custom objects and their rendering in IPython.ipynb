{
 "metadata": {
  "name": "",
  "signature": "sha256:16a2608e3d92fb4322e5f83def108a22f5d8647dd6683cd5b6be76add30873b9"
 },
 "nbformat": 3,
 "nbformat_minor": 0,
 "worksheets": [
  {
   "cells": [
    {
     "cell_type": "markdown",
     "metadata": {},
     "source": [
      "# Custom objects and their rendering in IPython"
     ]
    },
    {
     "cell_type": "code",
     "collapsed": false,
     "input": [
      "import rdkit.Chem as Chem\n",
      "from rdkit.Chem import PandasTools\n",
      "from rdkit.Chem import Draw\n",
      "from rdkit.Chem import Descriptors\n",
      "from rdkit.Chem.Draw import IPythonConsole # Enables RDKit IPython integration"
     ],
     "language": "python",
     "metadata": {},
     "outputs": [],
     "prompt_number": 1
    },
    {
     "cell_type": "markdown",
     "metadata": {},
     "source": [
      "### Lets say you need to create a custom object and you'd like to control the default representation"
     ]
    },
    {
     "cell_type": "markdown",
     "metadata": {},
     "source": [
      "We'll create an object that can store multiple molecules"
     ]
    },
    {
     "cell_type": "code",
     "collapsed": false,
     "input": [
      "class primitiveMolsObject():\n",
      "    def __init__(self, mols=None):\n",
      "        self.mols = mols\n",
      "        self.num = len(mols) # Return number of mols"
     ],
     "language": "python",
     "metadata": {},
     "outputs": [],
     "prompt_number": 2
    },
    {
     "cell_type": "markdown",
     "metadata": {},
     "source": [
      "Get some mols and put them in a list"
     ]
    },
    {
     "cell_type": "code",
     "collapsed": false,
     "input": [
      "mol1 = Chem.MolFromSmiles('NC(=O)CS(=O)C(c1ccccc1)c1ccccc1')"
     ],
     "language": "python",
     "metadata": {},
     "outputs": [],
     "prompt_number": 3
    },
    {
     "cell_type": "code",
     "collapsed": false,
     "input": [
      "mol2 = Chem.MolFromSmiles('CCC(OC(C)=O)C(CC(C)N(C)C)(c1ccccc1)c1ccccc1')"
     ],
     "language": "python",
     "metadata": {},
     "outputs": [],
     "prompt_number": 4
    },
    {
     "cell_type": "code",
     "collapsed": false,
     "input": [
      "mol3 = Chem.MolFromSmiles(' Cc1ccccc1C(OCCN(C)C)c1ccccc1')"
     ],
     "language": "python",
     "metadata": {},
     "outputs": [],
     "prompt_number": 5
    },
    {
     "cell_type": "code",
     "collapsed": false,
     "input": [
      "mols = [mol1, mol2, mol3]"
     ],
     "language": "python",
     "metadata": {},
     "outputs": [],
     "prompt_number": 6
    },
    {
     "cell_type": "markdown",
     "metadata": {},
     "source": [
      "Create model instance wih your mols"
     ]
    },
    {
     "cell_type": "code",
     "collapsed": false,
     "input": [
      "MyMols = primitiveMolsObject(mols)"
     ],
     "language": "python",
     "metadata": {},
     "outputs": [],
     "prompt_number": 7
    },
    {
     "cell_type": "code",
     "collapsed": false,
     "input": [
      "MyMols"
     ],
     "language": "python",
     "metadata": {},
     "outputs": [
      {
       "metadata": {},
       "output_type": "pyout",
       "prompt_number": 8,
       "text": [
        "<__main__.primitiveMolsObject instance at 0x3897fc8>"
       ]
      }
     ],
     "prompt_number": 8
    },
    {
     "cell_type": "markdown",
     "metadata": {},
     "source": [
      "Default rendering gives very little info about contents"
     ]
    },
    {
     "cell_type": "code",
     "collapsed": false,
     "input": [
      "MyMols.mols"
     ],
     "language": "python",
     "metadata": {},
     "outputs": [
      {
       "metadata": {},
       "output_type": "pyout",
       "prompt_number": 9,
       "text": [
        "[<rdkit.Chem.rdchem.Mol at 0x399a7c0>,\n",
        " <rdkit.Chem.rdchem.Mol at 0x39c4750>,\n",
        " <rdkit.Chem.rdchem.Mol at 0x39c46e0>]"
       ]
      }
     ],
     "prompt_number": 9
    },
    {
     "cell_type": "code",
     "collapsed": false,
     "input": [
      "MyMols.num"
     ],
     "language": "python",
     "metadata": {},
     "outputs": [
      {
       "metadata": {},
       "output_type": "pyout",
       "prompt_number": 10,
       "text": [
        "3"
       ]
      }
     ],
     "prompt_number": 10
    },
    {
     "cell_type": "markdown",
     "metadata": {},
     "source": [
      "### Luckily default representations of objects in ipython can be easily controled with \\_repr\\_html\\_"
     ]
    },
    {
     "cell_type": "markdown",
     "metadata": {},
     "source": [
      "Lets define the object again, this time with functions that control representation"
     ]
    },
    {
     "cell_type": "code",
     "collapsed": false,
     "input": [
      "class primitiveMolsObject2():\n",
      "    def __init__(self, mols=None):\n",
      "        self.mols = mols\n",
      "        self.num = len(mols) # Return number of mols\n",
      "    \n",
      "    def _repr_html_(self):\n",
      "        # Default representation in IPython\n",
      "        smilesString = ''\n",
      "        for mol in mols:\n",
      "            smilesString += Chem.MolToSmiles(mol) + \", \" \n",
      "        return smilesString #'<img src=\"data:image/png;base64,%s\" alt=\"Mol\"/>' %s"
     ],
     "language": "python",
     "metadata": {},
     "outputs": [],
     "prompt_number": 11
    },
    {
     "cell_type": "code",
     "collapsed": false,
     "input": [
      "MyMols2 = primitiveMolsObject2(mols)"
     ],
     "language": "python",
     "metadata": {},
     "outputs": [],
     "prompt_number": 12
    },
    {
     "cell_type": "markdown",
     "metadata": {},
     "source": [
      "Much better! We can acually see what hides behind an object"
     ]
    },
    {
     "cell_type": "code",
     "collapsed": false,
     "input": [
      "MyMols2"
     ],
     "language": "python",
     "metadata": {},
     "outputs": [
      {
       "html": [
        "NC(=O)CS(=O)C(c1ccccc1)c1ccccc1, CCC(OC(C)=O)C(CC(C)N(C)C)(c1ccccc1)c1ccccc1, Cc1ccccc1C(OCCN(C)C)c1ccccc1, "
       ],
       "metadata": {},
       "output_type": "pyout",
       "prompt_number": 13,
       "text": [
        "<__main__.primitiveMolsObject2 instance at 0x38a2950>"
       ]
      }
     ],
     "prompt_number": 13
    },
    {
     "cell_type": "markdown",
     "metadata": {},
     "source": [
      "#### Or we can add graphic representation"
     ]
    },
    {
     "cell_type": "code",
     "collapsed": false,
     "input": [
      "from base64 import b64encode\n",
      "from StringIO import StringIO\n",
      "\n",
      "class primitiveMolsObject3():\n",
      "    def __init__(self, mols=None):\n",
      "        self.mols = mols\n",
      "        self.num = len(mols) # Return number of mols\n",
      "    \n",
      "    def _repr_html_(self):\n",
      "        # Default representation in IPython\n",
      "        sio = StringIO()\n",
      "        Draw.MolsToGridImage(self.mols).save(sio,format='PNG')\n",
      "        s = b64encode(sio.getvalue()) # Encode in base64\n",
      "        return '<img src=\"data:image/png;base64,%s\" alt=\"Mol\"/>' %s"
     ],
     "language": "python",
     "metadata": {},
     "outputs": [],
     "prompt_number": 14
    },
    {
     "cell_type": "code",
     "collapsed": false,
     "input": [
      "MyOtherMols = primitiveMolsObject3(mols)"
     ],
     "language": "python",
     "metadata": {},
     "outputs": [],
     "prompt_number": 15
    },
    {
     "cell_type": "markdown",
     "metadata": {},
     "source": [
      "Much better! We can acually see what hides behind an object"
     ]
    },
    {
     "cell_type": "code",
     "collapsed": false,
     "input": [
      "MyOtherMols"
     ],
     "language": "python",
     "metadata": {},
     "outputs": [
      {
       "html": [
        "<img src=\"data:image/png;base64,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\" alt=\"Mol\"/>"
       ],
       "metadata": {},
       "output_type": "pyout",
       "prompt_number": 16,
       "text": [
        "<__main__.primitiveMolsObject3 instance at 0x38a5200>"
       ]
      }
     ],
     "prompt_number": 16
    },
    {
     "cell_type": "markdown",
     "metadata": {},
     "source": [
      "Copyright (C) 2014 by Samo Turk, BioMed X GmbH\n",
      "\n",
      "This work is licensed under the Creative Commons Attribution-ShareAlike 3.0 License. To view a copy of this license, visit http://creativecommons.org/licenses/by-sa/3.0/ or send a letter to Creative Commons, 543 Howard Street, 5th Floor, San Francisco, California, 94105, USA.\n"
     ]
    }
   ],
   "metadata": {}
  }
 ]
}